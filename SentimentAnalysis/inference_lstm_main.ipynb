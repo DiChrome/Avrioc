{
 "cells": [
  {
   "cell_type": "code",
   "execution_count": 16,
   "id": "2ec160c2",
   "metadata": {},
   "outputs": [],
   "source": [
    "import os, sys, torch"
   ]
  },
  {
   "cell_type": "code",
   "execution_count": 17,
   "id": "9c9597c0",
   "metadata": {},
   "outputs": [],
   "source": [
    "# current_dir = os.path.dirname(os.path.abspath(__file__))\n",
    "current_dir = os.getcwd() \n",
    "\n",
    "module_path = os.path.join(current_dir, \"module\")\n",
    "sys.path.append(module_path)\n",
    "\n",
    "from data_mod import SentimentDataModule\n",
    "from model_mod import LstmClassifier, TrainModel\n",
    "\n",
    "\n",
    "utility_path = os.path.join(current_dir, \"../Utility\")\n",
    "sys.path.append(utility_path)\n",
    "\n",
    "from utility_mod import Util"
   ]
  },
  {
   "cell_type": "code",
   "execution_count": null,
   "id": "05363341",
   "metadata": {},
   "outputs": [],
   "source": [
    "yaml_path = os.path.join(current_dir, \"params.yaml\")\n",
    "util_yaml_path = os.path.join(current_dir, \"../Utility/params.yaml\")\n",
    "\n",
    "# util_params = Util.get_params(util_yaml_path)\n",
    "data_params = Util.get_params(yaml_path)[\"data\"]\n",
    "# data_params.update(util_params)\n",
    "model_params = Util.get_params(yaml_path)[\"model\"]\n",
    "# model_params.update(util_params)\n",
    "\n",
    "sdm = SentimentDataModule(data_params)"
   ]
  },
  {
   "cell_type": "code",
   "execution_count": 19,
   "id": "5631bce1",
   "metadata": {},
   "outputs": [
    {
     "name": "stdout",
     "output_type": "stream",
     "text": [
      "set_tokenizer()\n"
     ]
    },
    {
     "data": {
      "text/plain": [
       "LstmClassifier(\n",
       "  (embedding): Embedding(30522, 128)\n",
       "  (lstm): LSTM(128, 64, batch_first=True)\n",
       "  (dropout): Dropout(p=0.2, inplace=False)\n",
       "  (linear): Linear(in_features=64, out_features=1, bias=True)\n",
       ")"
      ]
     },
     "execution_count": 19,
     "metadata": {},
     "output_type": "execute_result"
    }
   ],
   "source": [
    "sdm.set_tokenizer()\n",
    "model = LstmClassifier(vocab_size = sdm.tokenizer.vocab_size, dim_list = model_params[\"dim_list\"], dropout=model_params[\"dropout\"])\n",
    "model_state = torch.load(model_params[\"inference_model_path\"], map_location=\"cpu\")\n",
    "model.load_state_dict(model_state)\n",
    "model.eval()"
   ]
  },
  {
   "cell_type": "code",
   "execution_count": null,
   "id": "068ee5ea",
   "metadata": {},
   "outputs": [
    {
     "name": "stdout",
     "output_type": "stream",
     "text": [
      "input_tensor=tensor([[ 101, 6581,  102,    0,    0,    0,    0,    0,    0,    0,    0,    0,\n",
      "            0,    0,    0,    0,    0,    0,    0,    0,    0,    0,    0,    0,\n",
      "            0,    0,    0,    0,    0,    0,    0,    0,    0,    0,    0,    0,\n",
      "            0,    0,    0,    0,    0,    0,    0,    0,    0,    0,    0,    0,\n",
      "            0,    0,    0,    0,    0,    0,    0,    0,    0,    0,    0,    0,\n",
      "            0,    0,    0,    0,    0,    0,    0,    0,    0,    0,    0,    0,\n",
      "            0,    0,    0,    0,    0,    0,    0,    0,    0,    0,    0,    0,\n",
      "            0,    0,    0,    0,    0,    0,    0,    0,    0,    0,    0,    0,\n",
      "            0,    0,    0,    0,    0,    0,    0,    0,    0,    0,    0,    0,\n",
      "            0,    0,    0,    0,    0,    0,    0,    0,    0,    0,    0,    0,\n",
      "            0,    0,    0,    0,    0,    0,    0,    0]]), <class 'torch.Tensor'>\n",
      "logit_tensor=tensor([0.1926]), <class 'torch.Tensor'>\n",
      "pred_tensor=tensor([1]), <class 'torch.Tensor'>\n"
     ]
    }
   ],
   "source": [
    "def predict(text):\n",
    "    tokenizer_params = sdm.params[\"tokenizer\"]\n",
    "    # tokenizer_params[\"return_tensors\"]\n",
    "    token_id = sdm.tokenizer.encode(text, padding=tokenizer_params[\"padding\"],\n",
    "                                  max_length = tokenizer_params[\"max_length\"],\n",
    "                                  truncation=tokenizer_params[\"truncation\"])\n",
    "    input_tensor = torch.tensor(token_id).unsqueeze(0)\n",
    "    print(f\"{input_tensor=}, {type(input_tensor)}\")\n",
    "    with torch.no_grad():\n",
    "        logit_tensor = model(input_tensor).view(-1)\n",
    "    \n",
    "    print(f\"{logit_tensor=}, {type(logit_tensor)}\")\n",
    "    pred_tensor = (torch.sigmoid(logit_tensor) > 0.5).long()\n",
    "    print(f\"{pred_tensor=}, {type(pred_tensor)}\")\n",
    "    # probs = torch.softmax(pred.logits, dim=1)\n",
    "    # predicted_class = torch.argmax(probs, dim=1).item()\n",
    "    # return predicted_class, probs.numpy()\n",
    "\n",
    "predict(\"It's a great day\")"
   ]
  },
  {
   "cell_type": "code",
   "execution_count": null,
   "id": "5d3b24c6",
   "metadata": {},
   "outputs": [],
   "source": [
    "# is_platform_pc = sdm.params[\"platform\"] == \"cuda\"\n",
    "# is_encoded_data_present = os.path.isdir(sdm.params[\"encoded_data_path\"])\n",
    "\n",
    "# if not is_platform_pc or not is_encoded_data_present:\n",
    "#     sdm.fetch_dataset()\n",
    "\n",
    "# sdm.set_tokenizer()\n",
    "# sdm.load_encoded_dataset()"
   ]
  }
 ],
 "metadata": {
  "kernelspec": {
   "display_name": "Python 3",
   "language": "python",
   "name": "python3"
  },
  "language_info": {
   "codemirror_mode": {
    "name": "ipython",
    "version": 3
   },
   "file_extension": ".py",
   "mimetype": "text/x-python",
   "name": "python",
   "nbconvert_exporter": "python",
   "pygments_lexer": "ipython3",
   "version": "3.11.9"
  }
 },
 "nbformat": 4,
 "nbformat_minor": 5
}
