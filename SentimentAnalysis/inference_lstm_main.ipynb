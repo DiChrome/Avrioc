{
 "cells": [
  {
   "cell_type": "code",
   "execution_count": 74,
   "id": "2ec160c2",
   "metadata": {},
   "outputs": [],
   "source": [
    "import os, sys, torch"
   ]
  },
  {
   "cell_type": "code",
   "execution_count": null,
   "id": "9c9597c0",
   "metadata": {},
   "outputs": [],
   "source": [
    "# current_dir = os.path.dirname(os.path.abspath(__file__))\n",
    "current_dir = os.getcwd() \n",
    "\n",
    "module_path = os.path.join(current_dir, \"module\")\n",
    "sys.path.append(module_path)\n",
    "\n",
    "from data_mod import SentimentDataModule\n",
    "from model_mod import LstmClassifier, InferModel\n",
    "\n",
    "\n",
    "utility_path = os.path.join(current_dir, \"../Utility\")\n",
    "sys.path.append(utility_path)\n",
    "\n",
    "from utility_mod import Util"
   ]
  },
  {
   "cell_type": "code",
   "execution_count": 77,
   "id": "05363341",
   "metadata": {},
   "outputs": [],
   "source": [
    "yaml_path = os.path.join(current_dir, \"params.yaml\")\n",
    "util_yaml_path = os.path.join(current_dir, \"../Utility/params.yaml\")\n",
    "\n",
    "# util_params = Util.get_params(util_yaml_path)\n",
    "data_params = Util.get_params(yaml_path)[\"data\"]\n",
    "# data_params.update(util_params)\n",
    "inference_model_path = Util.get_params(yaml_path)[\"model\"][\"inference_model_path\"]\n",
    "model_config_yaml = inference_model_path+\"config.yaml\"\n",
    "model_params = Util.get_params(model_config_yaml)\n",
    "# model_params.update(util_params)\n",
    "\n",
    "sdm = SentimentDataModule(data_params)"
   ]
  },
  {
   "cell_type": "code",
   "execution_count": 78,
   "id": "511aa870",
   "metadata": {},
   "outputs": [
    {
     "name": "stdout",
     "output_type": "stream",
     "text": [
      "set_tokenizer()\n"
     ]
    },
    {
     "ename": "NameError",
     "evalue": "name 'InferModel' is not defined",
     "output_type": "error",
     "traceback": [
      "\u001b[1;31m---------------------------------------------------------------------------\u001b[0m",
      "\u001b[1;31mNameError\u001b[0m                                 Traceback (most recent call last)",
      "Cell \u001b[1;32mIn[78], line 6\u001b[0m\n\u001b[0;32m      4\u001b[0m model\u001b[38;5;241m.\u001b[39mload_state_dict(model_state)\n\u001b[0;32m      5\u001b[0m model\u001b[38;5;241m.\u001b[39meval()\n\u001b[1;32m----> 6\u001b[0m infer \u001b[38;5;241m=\u001b[39m \u001b[43mInferModel\u001b[49m(tokenizer_params \u001b[38;5;241m=\u001b[39m sdm\u001b[38;5;241m.\u001b[39mparams[\u001b[38;5;124m\"\u001b[39m\u001b[38;5;124mtokenizer\u001b[39m\u001b[38;5;124m\"\u001b[39m], model\u001b[38;5;241m=\u001b[39mmodel)\n",
      "\u001b[1;31mNameError\u001b[0m: name 'InferModel' is not defined"
     ]
    }
   ],
   "source": [
    "sdm.set_tokenizer()\n",
    "model = LstmClassifier(vocab_size = sdm.tokenizer.vocab_size, dim_list = model_params[\"dim_list\"], dropout=model_params[\"dropout\"])\n",
    "model_state = torch.load(inference_model_path+\"/model.pt\", map_location=\"cpu\")\n",
    "model.load_state_dict(model_state)\n",
    "model.eval()\n",
    "infer = InferModel(tokenizer_params = sdm.params[\"tokenizer\"], model=model)"
   ]
  },
  {
   "cell_type": "code",
   "execution_count": null,
   "id": "068ee5ea",
   "metadata": {},
   "outputs": [
    {
     "name": "stdout",
     "output_type": "stream",
     "text": [
      "Analysis: Positive\n"
     ]
    }
   ],
   "source": [
    "infer.predict(\"The product was damaged\")"
   ]
  }
 ],
 "metadata": {
  "kernelspec": {
   "display_name": "Python 3",
   "language": "python",
   "name": "python3"
  },
  "language_info": {
   "codemirror_mode": {
    "name": "ipython",
    "version": 3
   },
   "file_extension": ".py",
   "mimetype": "text/x-python",
   "name": "python",
   "nbconvert_exporter": "python",
   "pygments_lexer": "ipython3",
   "version": "3.11.9"
  }
 },
 "nbformat": 4,
 "nbformat_minor": 5
}
