{
 "cells": [
  {
   "cell_type": "code",
   "execution_count": 1,
   "id": "2ec160c2",
   "metadata": {},
   "outputs": [],
   "source": [
    "import os, sys, torch"
   ]
  },
  {
   "cell_type": "code",
   "execution_count": 2,
   "id": "9c9597c0",
   "metadata": {},
   "outputs": [],
   "source": [
    "# current_dir = os.path.dirname(os.path.abspath(__file__))\n",
    "current_dir = os.getcwd() \n",
    "\n",
    "module_path = os.path.join(current_dir, \"module\")\n",
    "sys.path.append(module_path)\n",
    "\n",
    "from data_mod import SentimentDataModule\n",
    "from model_mod import TransformerClassifier, InferModel\n",
    "\n",
    "\n",
    "utility_path = os.path.join(current_dir, \"../Utility\")\n",
    "sys.path.append(utility_path)\n",
    "\n",
    "from utility_mod import Util"
   ]
  },
  {
   "cell_type": "code",
   "execution_count": 3,
   "id": "05363341",
   "metadata": {},
   "outputs": [],
   "source": [
    "model_name = \"model_transformer_2\"\n",
    "yaml_path = os.path.join(current_dir, \"params.yaml\")\n",
    "util_yaml_path = os.path.join(current_dir, \"../Utility/params.yaml\")\n",
    "\n",
    "# util_params = Util.get_params(util_yaml_path)\n",
    "data_params = Util.get_params(yaml_path)[\"data\"]\n",
    "# data_params.update(util_params)\n",
    "inference_model_path = os.path.join(current_dir, f\"output/{model_name}/\")\n",
    "model_config_yaml = inference_model_path+\"config.yaml\"\n",
    "model_params = Util.get_params(model_config_yaml)\n",
    "# model_params.update(util_params)\n",
    "\n",
    "sdm = SentimentDataModule(data_params)"
   ]
  },
  {
   "cell_type": "code",
   "execution_count": 4,
   "id": "511aa870",
   "metadata": {},
   "outputs": [
    {
     "name": "stdout",
     "output_type": "stream",
     "text": [
      "set_tokenizer()\n"
     ]
    }
   ],
   "source": [
    "sdm.set_tokenizer()\n",
    "# model = LstmClassifier(vocab_size = sdm.tokenizer.vocab_size, dim_list = model_params[\"dim_list\"], dropout=model_params[\"dropout\"])\n",
    "model = TransformerClassifier(dropout=model_params[\"dropout\"])\n",
    "model_state = torch.load(inference_model_path+\"/model.pt\", map_location=\"cpu\")\n",
    "model.load_state_dict(model_state)\n",
    "model.eval()\n",
    "infer = InferModel(sdm.params[\"tokenizer\"], sdm.tokenizer, model)"
   ]
  },
  {
   "cell_type": "code",
   "execution_count": 5,
   "id": "068ee5ea",
   "metadata": {},
   "outputs": [
    {
     "name": "stdout",
     "output_type": "stream",
     "text": [
      "Analysis: Positive\n"
     ]
    }
   ],
   "source": [
    "user_input = input(\"Please enter your review\")\n",
    "infer.predict(user_input)"
   ]
  }
 ],
 "metadata": {
  "kernelspec": {
   "display_name": "Python 3",
   "language": "python",
   "name": "python3"
  },
  "language_info": {
   "codemirror_mode": {
    "name": "ipython",
    "version": 3
   },
   "file_extension": ".py",
   "mimetype": "text/x-python",
   "name": "python",
   "nbconvert_exporter": "python",
   "pygments_lexer": "ipython3",
   "version": "3.11.9"
  }
 },
 "nbformat": 4,
 "nbformat_minor": 5
}
